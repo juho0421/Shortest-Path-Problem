{
 "cells": [
  {
   "cell_type": "code",
   "execution_count": 1,
   "metadata": {},
   "outputs": [],
   "source": [
    "import numpy as np\n",
    "import pandas as pd\n",
    "\n",
    "import json\n",
    "import heapq\n",
    "import requests\n",
    "\n",
    "from time import time\n",
    "from tqdm import tqdm\n",
    "from urllib.parse import urlparse\n",
    "\n",
    "# kakao API key\n",
    "api_key = '43dabecbc47029b5ca73d4c599de3185'"
   ]
  },
  {
   "cell_type": "markdown",
   "metadata": {},
   "source": [
    "# Data"
   ]
  },
  {
   "cell_type": "markdown",
   "metadata": {},
   "source": [
    "## subway_graph\n",
    "* 인접행렬(adjacency matrix) 방식으로 구현한 지하철 역 간 소요 시간 그래프"
   ]
  },
  {
   "cell_type": "code",
   "execution_count": 2,
   "metadata": {
    "colab": {
     "base_uri": "https://localhost:8080/",
     "height": 556
    },
    "executionInfo": {
     "elapsed": 1418,
     "status": "ok",
     "timestamp": 1683177693741,
     "user": {
      "displayName": "한주호",
      "userId": "16500920611617000722"
     },
     "user_tz": -540
    },
    "id": "driBJelD6qf4",
    "outputId": "53599b34-bfe4-4080-fa2d-f5e3fbc413f1"
   },
   "outputs": [
    {
     "data": {
      "text/html": [
       "<div>\n",
       "<style scoped>\n",
       "    .dataframe tbody tr th:only-of-type {\n",
       "        vertical-align: middle;\n",
       "    }\n",
       "\n",
       "    .dataframe tbody tr th {\n",
       "        vertical-align: top;\n",
       "    }\n",
       "\n",
       "    .dataframe thead th {\n",
       "        text-align: right;\n",
       "    }\n",
       "</style>\n",
       "<table border=\"1\" class=\"dataframe\">\n",
       "  <thead>\n",
       "    <tr style=\"text-align: right;\">\n",
       "      <th></th>\n",
       "      <th>소요산</th>\n",
       "      <th>동두천</th>\n",
       "      <th>보산</th>\n",
       "      <th>동두천중앙</th>\n",
       "      <th>지행</th>\n",
       "      <th>덕정</th>\n",
       "      <th>덕계</th>\n",
       "      <th>양주</th>\n",
       "      <th>녹양</th>\n",
       "      <th>가능</th>\n",
       "      <th>...</th>\n",
       "      <th>하남풍산</th>\n",
       "      <th>하남시청</th>\n",
       "      <th>하남검단산</th>\n",
       "      <th>둔촌동</th>\n",
       "      <th>올림픽공원</th>\n",
       "      <th>방이</th>\n",
       "      <th>5오금</th>\n",
       "      <th>개롱</th>\n",
       "      <th>거여</th>\n",
       "      <th>마천</th>\n",
       "    </tr>\n",
       "  </thead>\n",
       "  <tbody>\n",
       "    <tr>\n",
       "      <th>0</th>\n",
       "      <td>0</td>\n",
       "      <td>4</td>\n",
       "      <td>0</td>\n",
       "      <td>0</td>\n",
       "      <td>0</td>\n",
       "      <td>0</td>\n",
       "      <td>0</td>\n",
       "      <td>0</td>\n",
       "      <td>0</td>\n",
       "      <td>0</td>\n",
       "      <td>...</td>\n",
       "      <td>0</td>\n",
       "      <td>0</td>\n",
       "      <td>0</td>\n",
       "      <td>0</td>\n",
       "      <td>0</td>\n",
       "      <td>0</td>\n",
       "      <td>0</td>\n",
       "      <td>0</td>\n",
       "      <td>0</td>\n",
       "      <td>0</td>\n",
       "    </tr>\n",
       "    <tr>\n",
       "      <th>1</th>\n",
       "      <td>4</td>\n",
       "      <td>0</td>\n",
       "      <td>2</td>\n",
       "      <td>0</td>\n",
       "      <td>0</td>\n",
       "      <td>0</td>\n",
       "      <td>0</td>\n",
       "      <td>0</td>\n",
       "      <td>0</td>\n",
       "      <td>0</td>\n",
       "      <td>...</td>\n",
       "      <td>0</td>\n",
       "      <td>0</td>\n",
       "      <td>0</td>\n",
       "      <td>0</td>\n",
       "      <td>0</td>\n",
       "      <td>0</td>\n",
       "      <td>0</td>\n",
       "      <td>0</td>\n",
       "      <td>0</td>\n",
       "      <td>0</td>\n",
       "    </tr>\n",
       "    <tr>\n",
       "      <th>2</th>\n",
       "      <td>0</td>\n",
       "      <td>2</td>\n",
       "      <td>0</td>\n",
       "      <td>2</td>\n",
       "      <td>0</td>\n",
       "      <td>0</td>\n",
       "      <td>0</td>\n",
       "      <td>0</td>\n",
       "      <td>0</td>\n",
       "      <td>0</td>\n",
       "      <td>...</td>\n",
       "      <td>0</td>\n",
       "      <td>0</td>\n",
       "      <td>0</td>\n",
       "      <td>0</td>\n",
       "      <td>0</td>\n",
       "      <td>0</td>\n",
       "      <td>0</td>\n",
       "      <td>0</td>\n",
       "      <td>0</td>\n",
       "      <td>0</td>\n",
       "    </tr>\n",
       "    <tr>\n",
       "      <th>3</th>\n",
       "      <td>0</td>\n",
       "      <td>0</td>\n",
       "      <td>2</td>\n",
       "      <td>0</td>\n",
       "      <td>1</td>\n",
       "      <td>0</td>\n",
       "      <td>0</td>\n",
       "      <td>0</td>\n",
       "      <td>0</td>\n",
       "      <td>0</td>\n",
       "      <td>...</td>\n",
       "      <td>0</td>\n",
       "      <td>0</td>\n",
       "      <td>0</td>\n",
       "      <td>0</td>\n",
       "      <td>0</td>\n",
       "      <td>0</td>\n",
       "      <td>0</td>\n",
       "      <td>0</td>\n",
       "      <td>0</td>\n",
       "      <td>0</td>\n",
       "    </tr>\n",
       "    <tr>\n",
       "      <th>4</th>\n",
       "      <td>0</td>\n",
       "      <td>0</td>\n",
       "      <td>0</td>\n",
       "      <td>1</td>\n",
       "      <td>0</td>\n",
       "      <td>4</td>\n",
       "      <td>0</td>\n",
       "      <td>0</td>\n",
       "      <td>0</td>\n",
       "      <td>0</td>\n",
       "      <td>...</td>\n",
       "      <td>0</td>\n",
       "      <td>0</td>\n",
       "      <td>0</td>\n",
       "      <td>0</td>\n",
       "      <td>0</td>\n",
       "      <td>0</td>\n",
       "      <td>0</td>\n",
       "      <td>0</td>\n",
       "      <td>0</td>\n",
       "      <td>0</td>\n",
       "    </tr>\n",
       "  </tbody>\n",
       "</table>\n",
       "<p>5 rows × 301 columns</p>\n",
       "</div>"
      ],
      "text/plain": [
       "   소요산  동두천  보산  동두천중앙  지행  덕정  덕계  양주  녹양  가능  ...  하남풍산  하남시청  하남검단산  둔촌동  \\\n",
       "0    0    4   0      0   0   0   0   0   0   0  ...     0     0      0    0   \n",
       "1    4    0   2      0   0   0   0   0   0   0  ...     0     0      0    0   \n",
       "2    0    2   0      2   0   0   0   0   0   0  ...     0     0      0    0   \n",
       "3    0    0   2      0   1   0   0   0   0   0  ...     0     0      0    0   \n",
       "4    0    0   0      1   0   4   0   0   0   0  ...     0     0      0    0   \n",
       "\n",
       "   올림픽공원  방이  5오금  개롱  거여  마천  \n",
       "0      0   0    0   0   0   0  \n",
       "1      0   0    0   0   0   0  \n",
       "2      0   0    0   0   0   0  \n",
       "3      0   0    0   0   0   0  \n",
       "4      0   0    0   0   0   0  \n",
       "\n",
       "[5 rows x 301 columns]"
      ]
     },
     "execution_count": 2,
     "metadata": {},
     "output_type": "execute_result"
    }
   ],
   "source": [
    "# 역간 소요시간 및 환승시간 반영된 인접행렬 로드\n",
    "subway_matrix = pd.read_csv('./adjacency_matrix.csv')\n",
    "\n",
    "# 인접행렬 형태로 구현된 그래프\n",
    "subway_graph = subway_matrix.drop('subway_name', axis=1)\n",
    "subway_graph.head()"
   ]
  },
  {
   "cell_type": "markdown",
   "metadata": {},
   "source": [
    "## subway_info"
   ]
  },
  {
   "cell_type": "code",
   "execution_count": 3,
   "metadata": {},
   "outputs": [],
   "source": [
    "def address_to_coordinates(address):\n",
    "    '''카카오 API를 활용하여 주소에 해당하는 위도 경도 추출'''\n",
    "    url = f\"https://dapi.kakao.com/v2/local/search/address.json?query={address}\"\n",
    "    headers = {\"Authorization\": \"KakaoAK \" + api_key}\n",
    "    result = json.loads(str(requests.get(url, headers=headers).text))\n",
    "    try:\n",
    "        coordinates = result['documents'][0]['address']\n",
    "        return float(coordinates['x']), float(coordinates['y'])\n",
    "    except:\n",
    "        return None, None\n",
    "\n",
    "\n",
    "# 호선, 역이름, 역주소 로드 (https://www.data.go.kr/data/15013205/standard.do)\n",
    "subway_info = pd.read_csv('./subway_info.csv')\n",
    "\n",
    "# 역주소 위도 경도 추출\n",
    "subway_info['coordinates'] = subway_info['address'].apply(address_to_coordinates)\n",
    "subway_info['coordinate_x'] = subway_info['coordinates'].apply(lambda x : x[0])\n",
    "subway_info['coordinate_y'] = subway_info['coordinates'].apply(lambda x : x[1])\n",
    "subway_info = subway_info.drop('coordinates', axis=1)    "
   ]
  },
  {
   "cell_type": "code",
   "execution_count": 4,
   "metadata": {},
   "outputs": [
    {
     "data": {
      "text/html": [
       "<div>\n",
       "<style scoped>\n",
       "    .dataframe tbody tr th:only-of-type {\n",
       "        vertical-align: middle;\n",
       "    }\n",
       "\n",
       "    .dataframe tbody tr th {\n",
       "        vertical-align: top;\n",
       "    }\n",
       "\n",
       "    .dataframe thead th {\n",
       "        text-align: right;\n",
       "    }\n",
       "</style>\n",
       "<table border=\"1\" class=\"dataframe\">\n",
       "  <thead>\n",
       "    <tr style=\"text-align: right;\">\n",
       "      <th></th>\n",
       "      <th>subway_line</th>\n",
       "      <th>subway_name</th>\n",
       "      <th>address</th>\n",
       "      <th>coordinate_x</th>\n",
       "      <th>coordinate_y</th>\n",
       "    </tr>\n",
       "  </thead>\n",
       "  <tbody>\n",
       "    <tr>\n",
       "      <th>0</th>\n",
       "      <td>1</td>\n",
       "      <td>소요산</td>\n",
       "      <td>경기도 동두천시 평화로 2925(상봉암동 126)</td>\n",
       "      <td>127.061213</td>\n",
       "      <td>37.947954</td>\n",
       "    </tr>\n",
       "    <tr>\n",
       "      <th>1</th>\n",
       "      <td>1</td>\n",
       "      <td>동두천</td>\n",
       "      <td>경기도 동두천시 평화로 2687(동두천동 245-210)</td>\n",
       "      <td>127.054940</td>\n",
       "      <td>37.927837</td>\n",
       "    </tr>\n",
       "    <tr>\n",
       "      <th>2</th>\n",
       "      <td>1</td>\n",
       "      <td>보산</td>\n",
       "      <td>경기도 동두천시 평화로 2539(보산동)</td>\n",
       "      <td>127.057237</td>\n",
       "      <td>37.914319</td>\n",
       "    </tr>\n",
       "    <tr>\n",
       "      <th>3</th>\n",
       "      <td>1</td>\n",
       "      <td>동두천중앙</td>\n",
       "      <td>경기도 동두천시 동두천로 228(생연동 682)</td>\n",
       "      <td>127.056239</td>\n",
       "      <td>37.901806</td>\n",
       "    </tr>\n",
       "    <tr>\n",
       "      <th>4</th>\n",
       "      <td>1</td>\n",
       "      <td>지행</td>\n",
       "      <td>경기도 동두천시 평화로 2285(지행동)</td>\n",
       "      <td>127.055664</td>\n",
       "      <td>37.891877</td>\n",
       "    </tr>\n",
       "  </tbody>\n",
       "</table>\n",
       "</div>"
      ],
      "text/plain": [
       "   subway_line subway_name                          address  coordinate_x  \\\n",
       "0            1         소요산      경기도 동두천시 평화로 2925(상봉암동 126)    127.061213   \n",
       "1            1         동두천  경기도 동두천시 평화로 2687(동두천동 245-210)    127.054940   \n",
       "2            1          보산           경기도 동두천시 평화로 2539(보산동)    127.057237   \n",
       "3            1       동두천중앙       경기도 동두천시 동두천로 228(생연동 682)    127.056239   \n",
       "4            1          지행           경기도 동두천시 평화로 2285(지행동)    127.055664   \n",
       "\n",
       "   coordinate_y  \n",
       "0     37.947954  \n",
       "1     37.927837  \n",
       "2     37.914319  \n",
       "3     37.901806  \n",
       "4     37.891877  "
      ]
     },
     "execution_count": 4,
     "metadata": {},
     "output_type": "execute_result"
    }
   ],
   "source": [
    "# API 누락 역주소\n",
    "manual_address_to_coordinates = {\n",
    "    '덕계' : (37.818761, 127.056676),\n",
    "    '도봉산' : (37.689603, 127.046347),\n",
    "    '석계' : (37.615206,\t127.065594),\n",
    "    '성환' : (36.915781,\t127.127007),\n",
    "    '탕정' : (36.788272,\t127.080446),\n",
    "    '화정' : (37.637837,\t126.832503),\n",
    "    '원당' : (37.653103,\t126.842891),\n",
    "    '삼송' : (37.653096,\t126.895559),\n",
    "    '대공원' : (37.435724,\t127.006474),\n",
    "}\n",
    "\n",
    "# API 누락 역주소 위도 경도 추가\n",
    "for key, value in manual_address_to_coordinates.items():\n",
    "    subway_info.loc[subway_info['subway_name'] == key, 'coordinate_x'] = value[0]\n",
    "    subway_info.loc[subway_info['subway_name'] == key, 'coordinate_y'] = value[1]\n",
    "\n",
    "subway_info.head()"
   ]
  },
  {
   "cell_type": "markdown",
   "metadata": {},
   "source": [
    "## heu_matrix\n",
    "* A* 알고리즘 구현을 위한 휴리스틱 정보 (Euclidean, Manhatten)"
   ]
  },
  {
   "cell_type": "code",
   "execution_count": 9,
   "metadata": {},
   "outputs": [
    {
     "name": "stderr",
     "output_type": "stream",
     "text": [
      "100%|████████████████████████████████████████████████████████████████████████████████| 300/300 [01:22<00:00,  3.63it/s]\n"
     ]
    }
   ],
   "source": [
    "# 역이름\n",
    "subway_li = subway_graph.columns.tolist()\n",
    "subway_name_li = subway_info['subway_name'].tolist()\n",
    "\n",
    "# 인접행렬 초기화\n",
    "heu_matrix_euclidean = pd.DataFrame(index=subway_name_li, columns=subway_name_li)\n",
    "heu_matrix_manhatten = pd.DataFrame(index=subway_name_li, columns=subway_name_li)\n",
    "\n",
    "# 유클리드 거리 계산 함수\n",
    "def euclidean_distance(x1, y1, x2, y2):\n",
    "    return np.sqrt((x1 - x2) ** 2 + (y1 - y2) ** 2)\n",
    "\n",
    "# 맨하탄 거리 계산 함수\n",
    "def manhattan_distance(x1, y1, x2, y2):\n",
    "    return np.abs(x1 - x2) + np.abs(y1 - y2)\n",
    "\n",
    "# 각 이름간 유클리드 거리 & 맨해튼 거리 각각 계산하여 인접행렬에 저장\n",
    "for subway1 in tqdm(subway_name_li):\n",
    "    for subway2 in subway_name_li:\n",
    "        if subway1 == subway2:\n",
    "            heu_matrix_euclidean.loc[subway1, subway2] = 0.0\n",
    "            heu_matrix_manhatten.loc[subway1, subway2] = 0.0\n",
    "        else:\n",
    "            x1 = subway_info.loc[subway_info['subway_name'] == subway1, 'coordinate_x'].values[0]\n",
    "            y1 = subway_info.loc[subway_info['subway_name'] == subway1, 'coordinate_y'].values[0]\n",
    "            x2 = subway_info.loc[subway_info['subway_name'] == subway2, 'coordinate_x'].values[0]\n",
    "            y2 = subway_info.loc[subway_info['subway_name'] == subway2, 'coordinate_y'].values[0]\n",
    "            heu_matrix_euclidean.loc[subway1, subway2] = euclidean_distance(x1, y1, x2, y2)\n",
    "            heu_matrix_manhatten.loc[subway1, subway2] = manhattan_distance(x1, y1, x2, y2)"
   ]
  },
  {
   "cell_type": "markdown",
   "metadata": {},
   "source": [
    "# Algorithms"
   ]
  },
  {
   "cell_type": "markdown",
   "metadata": {
    "id": "EV9uWrpq73kh"
   },
   "source": [
    "## 1. Dijkstra algorithm"
   ]
  },
  {
   "cell_type": "code",
   "execution_count": 10,
   "metadata": {
    "colab": {
     "base_uri": "https://localhost:8080/"
    },
    "executionInfo": {
     "elapsed": 7624,
     "status": "ok",
     "timestamp": 1683181476567,
     "user": {
      "displayName": "한주호",
      "userId": "16500920611617000722"
     },
     "user_tz": -540
    },
    "id": "v8BM5uj5WczU",
    "outputId": "d22c9f22-38cb-45aa-d6bc-0014c56d5ef6"
   },
   "outputs": [],
   "source": [
    "def dijkstra(adj_matrix, start_vertex, end_vertex):\n",
    "    # 초기화\n",
    "    n = len(adj_matrix)\n",
    "    visited = [False] * n\n",
    "    previous_vertex = [None] * n\n",
    "    \n",
    "    distance = [float('inf')] * n\n",
    "\n",
    "    # 시작 정점의 시간를 0으로 설정\n",
    "    distance[start_vertex] = 0\n",
    "    \n",
    "    # 우선순위 큐에 (시간, 정점) 쌍을 넣음\n",
    "    pq = [(0, start_vertex)]\n",
    "    \n",
    "    while pq:\n",
    "        # 우선순위 큐에서 시간이 가장 짧은 정점을 꺼냄\n",
    "        current_distance, current_vertex = heapq.heappop(pq)\n",
    "        \n",
    "        # 이미 방문한 정점이면 스킵\n",
    "        if visited[current_vertex]:\n",
    "            continue\n",
    "        \n",
    "        # 현재 정점을 방문 처리\n",
    "        visited[current_vertex] = True\n",
    "        \n",
    "        # 목적지에 도달한 경우, 탐색을 종료하고 최단 경로와 비용을 반환\n",
    "        if current_vertex == end_vertex:\n",
    "            path = []\n",
    "            while previous_vertex[current_vertex] is not None:\n",
    "                path.append(current_vertex)\n",
    "                current_vertex = previous_vertex[current_vertex]\n",
    "            path.append(current_vertex)\n",
    "            path.reverse()\n",
    "            return path, distance[end_vertex]\n",
    "        \n",
    "        # 현재 정점과 연결된 인접 정점들을 탐색\n",
    "        for neighbor_vertex in range(n):\n",
    "            weight = adj_matrix[current_vertex][neighbor_vertex]\n",
    "            if weight > 0:\n",
    "                # 새로운 시간을 계산\n",
    "                new_distance = distance[current_vertex] + weight\n",
    "                \n",
    "                # 새로운 시간이 기존의 시간보다 짧으면 업데이트\n",
    "                if new_distance < distance[neighbor_vertex]:\n",
    "                    distance[neighbor_vertex] = new_distance\n",
    "                    previous_vertex[neighbor_vertex] = current_vertex\n",
    "                    heapq.heappush(pq, (new_distance, neighbor_vertex))\n",
    "    \n",
    "    # 목적지에 도달할 수 없는 경우\n",
    "    return None, None"
   ]
  },
  {
   "cell_type": "code",
   "execution_count": 12,
   "metadata": {},
   "outputs": [
    {
     "name": "stdout",
     "output_type": "stream",
     "text": [
      "출발지 입력: 소요산\n",
      "목적지 입력: 마천\n",
      "\n",
      "최단 경로: ['소요산', '동두천', '보산', '동두천중앙', '지행', '덕정', '덕계', '양주', '녹양', '가능', '의정부', '회룡', '망월사', '도봉산', '도봉', '방학', '1창동', '4창동', '쌍문', '수유', '미아', '미아사거리', '길음', '성신여대입구', '한성대입구', '혜화', '4동대문', '4동대문역사문화공원', '2동대문역사문화공원', '신당', '상왕십리', '2왕십리', '5왕십리', '마장', '답십리', '장한평', '군자', '아차산', '광나루', '천호', '강동', '둔촌동', '올림픽공원', '방이', '5오금', '개롱', '거여', '마천']\n",
      "\n",
      "소요 시간: 86 분\n",
      "다익스트라 성능: 0.012998580932617188 초\n"
     ]
    }
   ],
   "source": [
    "# 다익스트라 알고리즘 적용\n",
    "adj_matrix = subway_graph.values\n",
    "start_vertex = int(subway_li.index(input(\"출발지 입력: \")))\n",
    "end_vertex = int(subway_li.index(input(\"목적지 입력: \")))\n",
    "\n",
    "start_time = time()\n",
    "shortest_path, cost = dijkstra(adj_matrix, start_vertex, end_vertex)\n",
    "end_time = time()\n",
    "elapsed = end_time - start_time\n",
    "\n",
    "print(f\"\\n최단 경로: {[subway_li[i] for i in shortest_path]}\\n\")\n",
    "\n",
    "print(f\"소요 시간: {cost} 분\")\n",
    "\n",
    "print(f\"다익스트라 성능: {elapsed} 초\")"
   ]
  },
  {
   "cell_type": "markdown",
   "metadata": {},
   "source": [
    "## 2. A* algorithm"
   ]
  },
  {
   "cell_type": "code",
   "execution_count": 13,
   "metadata": {},
   "outputs": [],
   "source": [
    "def a_star(adj_matrix, start_vertex, end_vertex, heu_matrix):\n",
    "    # 초기화\n",
    "    n = len(adj_matrix)\n",
    "    previous_vertex = [None] * n\n",
    "    \n",
    "    open_list = []\n",
    "    close_list = []\n",
    "    \n",
    "    # 출발 노드로부터 현재 노드까지의 실제 비용 (거리)\n",
    "    g = [float('inf')] * n\n",
    "    g[start_vertex] = 0\n",
    "    \n",
    "    # 목적지까지의 예상 비용 (휴리스틱)\n",
    "    h = heu_matrix.iloc[start_vertex, end_vertex]\n",
    "    \n",
    "    # 목적지까지의 총 예상 비용 (휴리스틱 + 거리)\n",
    "    f = g + h\n",
    "    \n",
    "    # 우선순위 큐에 (총 예상 비용, 노드) 쌍을 넣음\n",
    "    heapq.heappush(open_list, (f, start_vertex))\n",
    "    \n",
    "    while open_list:\n",
    "        # 우선순위 큐에서 총 예상 시간이 가장 짧은 노드를 꺼냄\n",
    "        _, current_vertex = heapq.heappop(open_list)\n",
    "        \n",
    "         # 목적지에 도달한 경우, 탐색을 종료하고 최단 경로와 비용을 반환\n",
    "        if current_vertex == end_vertex:\n",
    "            path = [current_vertex]\n",
    "            while previous_vertex[current_vertex] is not None:\n",
    "                current_vertex = previous_vertex[current_vertex]\n",
    "                path.append(current_vertex)\n",
    "            return path[::-1], g[end_vertex]\n",
    "        \n",
    "        # 현재 노드를 Close List에 추가\n",
    "        close_list.append(current_vertex)\n",
    "        \n",
    "        # 인접 노드 탐색\n",
    "        for neighbor_vertex in range(n):          \n",
    "            weight = adj_matrix[current_vertex][neighbor_vertex]\n",
    "            if (weight > 0) and (neighbor_vertex not in close_list):             \n",
    "                \n",
    "                # 인접 노드에서 상태값 계산\n",
    "                tentative_g = g[current_vertex] + weight\n",
    "                h = heu_matrix.iloc[neighbor_vertex, end_vertex]\n",
    "                f = tentative_g + h\n",
    "                \n",
    "                # 인접 노드를 Open List에 추가\n",
    "                if (neighbor_vertex not in open_list) or (tentative_g < g[neighbor_vertex]):\n",
    "                    g[neighbor_vertex] = tentative_g\n",
    "                    previous_vertex[neighbor_vertex] = current_vertex\n",
    "                    heapq.heappush(open_list, (f, neighbor_vertex))    \n",
    "                    \n",
    "    # 목적지에 도달할 수 없는 경우\n",
    "    return None, None"
   ]
  },
  {
   "cell_type": "code",
   "execution_count": 14,
   "metadata": {},
   "outputs": [
    {
     "name": "stdout",
     "output_type": "stream",
     "text": [
      "출발지 입력: 소요산\n",
      "목적지 입력: 마천\n"
     ]
    },
    {
     "ename": "IndexError",
     "evalue": "index 300 is out of bounds for axis 0 with size 300",
     "output_type": "error",
     "traceback": [
      "\u001b[1;31m---------------------------------------------------------------------------\u001b[0m",
      "\u001b[1;31mIndexError\u001b[0m                                Traceback (most recent call last)",
      "Cell \u001b[1;32mIn[14], line 9\u001b[0m\n\u001b[0;32m      6\u001b[0m end_vertex \u001b[38;5;241m=\u001b[39m \u001b[38;5;28mint\u001b[39m(subway_li\u001b[38;5;241m.\u001b[39mindex(\u001b[38;5;28minput\u001b[39m(\u001b[38;5;124m\"\u001b[39m\u001b[38;5;124m목적지 입력: \u001b[39m\u001b[38;5;124m\"\u001b[39m)))\n\u001b[0;32m      8\u001b[0m start_time \u001b[38;5;241m=\u001b[39m time()\n\u001b[1;32m----> 9\u001b[0m shortest_patht, cost \u001b[38;5;241m=\u001b[39m \u001b[43ma_star\u001b[49m\u001b[43m(\u001b[49m\u001b[43madj_matrix\u001b[49m\u001b[43m,\u001b[49m\u001b[43m \u001b[49m\u001b[43mstart_vertex\u001b[49m\u001b[43m,\u001b[49m\u001b[43m \u001b[49m\u001b[43mend_vertex\u001b[49m\u001b[43m,\u001b[49m\u001b[43m \u001b[49m\u001b[43mheu_matrix\u001b[49m\u001b[43m)\u001b[49m\n\u001b[0;32m     10\u001b[0m end_time \u001b[38;5;241m=\u001b[39m time()\n\u001b[0;32m     11\u001b[0m elapsed \u001b[38;5;241m=\u001b[39m end_time \u001b[38;5;241m-\u001b[39m start_time\n",
      "Cell \u001b[1;32mIn[13], line 14\u001b[0m, in \u001b[0;36ma_star\u001b[1;34m(adj_matrix, start_vertex, end_vertex, heu_matrix)\u001b[0m\n\u001b[0;32m     11\u001b[0m g[start_vertex] \u001b[38;5;241m=\u001b[39m \u001b[38;5;241m0\u001b[39m\n\u001b[0;32m     13\u001b[0m \u001b[38;5;66;03m# 목적지까지의 예상 비용 (휴리스틱)\u001b[39;00m\n\u001b[1;32m---> 14\u001b[0m h \u001b[38;5;241m=\u001b[39m \u001b[43mheu_matrix\u001b[49m\u001b[38;5;241;43m.\u001b[39;49m\u001b[43miloc\u001b[49m\u001b[43m[\u001b[49m\u001b[43mstart_vertex\u001b[49m\u001b[43m,\u001b[49m\u001b[43m \u001b[49m\u001b[43mend_vertex\u001b[49m\u001b[43m]\u001b[49m\n\u001b[0;32m     16\u001b[0m \u001b[38;5;66;03m# 목적지까지의 총 예상 비용 (휴리스틱 + 거리)\u001b[39;00m\n\u001b[0;32m     17\u001b[0m f \u001b[38;5;241m=\u001b[39m g \u001b[38;5;241m+\u001b[39m h\n",
      "File \u001b[1;32m~\\anaconda3\\lib\\site-packages\\pandas\\core\\indexing.py:1066\u001b[0m, in \u001b[0;36m_LocationIndexer.__getitem__\u001b[1;34m(self, key)\u001b[0m\n\u001b[0;32m   1064\u001b[0m     key \u001b[38;5;241m=\u001b[39m \u001b[38;5;28mtuple\u001b[39m(com\u001b[38;5;241m.\u001b[39mapply_if_callable(x, \u001b[38;5;28mself\u001b[39m\u001b[38;5;241m.\u001b[39mobj) \u001b[38;5;28;01mfor\u001b[39;00m x \u001b[38;5;129;01min\u001b[39;00m key)\n\u001b[0;32m   1065\u001b[0m     \u001b[38;5;28;01mif\u001b[39;00m \u001b[38;5;28mself\u001b[39m\u001b[38;5;241m.\u001b[39m_is_scalar_access(key):\n\u001b[1;32m-> 1066\u001b[0m         \u001b[38;5;28;01mreturn\u001b[39;00m \u001b[38;5;28;43mself\u001b[39;49m\u001b[38;5;241;43m.\u001b[39;49m\u001b[43mobj\u001b[49m\u001b[38;5;241;43m.\u001b[39;49m\u001b[43m_get_value\u001b[49m\u001b[43m(\u001b[49m\u001b[38;5;241;43m*\u001b[39;49m\u001b[43mkey\u001b[49m\u001b[43m,\u001b[49m\u001b[43m \u001b[49m\u001b[43mtakeable\u001b[49m\u001b[38;5;241;43m=\u001b[39;49m\u001b[38;5;28;43mself\u001b[39;49m\u001b[38;5;241;43m.\u001b[39;49m\u001b[43m_takeable\u001b[49m\u001b[43m)\u001b[49m\n\u001b[0;32m   1067\u001b[0m     \u001b[38;5;28;01mreturn\u001b[39;00m \u001b[38;5;28mself\u001b[39m\u001b[38;5;241m.\u001b[39m_getitem_tuple(key)\n\u001b[0;32m   1068\u001b[0m \u001b[38;5;28;01melse\u001b[39;00m:\n\u001b[0;32m   1069\u001b[0m     \u001b[38;5;66;03m# we by definition only have the 0th axis\u001b[39;00m\n",
      "File \u001b[1;32m~\\anaconda3\\lib\\site-packages\\pandas\\core\\frame.py:3914\u001b[0m, in \u001b[0;36mDataFrame._get_value\u001b[1;34m(self, index, col, takeable)\u001b[0m\n\u001b[0;32m   3895\u001b[0m \u001b[38;5;124;03m\"\"\"\u001b[39;00m\n\u001b[0;32m   3896\u001b[0m \u001b[38;5;124;03mQuickly retrieve single value at passed column and index.\u001b[39;00m\n\u001b[0;32m   3897\u001b[0m \n\u001b[1;32m   (...)\u001b[0m\n\u001b[0;32m   3911\u001b[0m \u001b[38;5;124;03m`self.columns._index_as_unique`; Caller is responsible for checking.\u001b[39;00m\n\u001b[0;32m   3912\u001b[0m \u001b[38;5;124;03m\"\"\"\u001b[39;00m\n\u001b[0;32m   3913\u001b[0m \u001b[38;5;28;01mif\u001b[39;00m takeable:\n\u001b[1;32m-> 3914\u001b[0m     series \u001b[38;5;241m=\u001b[39m \u001b[38;5;28;43mself\u001b[39;49m\u001b[38;5;241;43m.\u001b[39;49m\u001b[43m_ixs\u001b[49m\u001b[43m(\u001b[49m\u001b[43mcol\u001b[49m\u001b[43m,\u001b[49m\u001b[43m \u001b[49m\u001b[43maxis\u001b[49m\u001b[38;5;241;43m=\u001b[39;49m\u001b[38;5;241;43m1\u001b[39;49m\u001b[43m)\u001b[49m\n\u001b[0;32m   3915\u001b[0m     \u001b[38;5;28;01mreturn\u001b[39;00m series\u001b[38;5;241m.\u001b[39m_values[index]\n\u001b[0;32m   3917\u001b[0m series \u001b[38;5;241m=\u001b[39m \u001b[38;5;28mself\u001b[39m\u001b[38;5;241m.\u001b[39m_get_item_cache(col)\n",
      "File \u001b[1;32m~\\anaconda3\\lib\\site-packages\\pandas\\core\\frame.py:3728\u001b[0m, in \u001b[0;36mDataFrame._ixs\u001b[1;34m(self, i, axis)\u001b[0m\n\u001b[0;32m   3724\u001b[0m     \u001b[38;5;28;01mreturn\u001b[39;00m result\n\u001b[0;32m   3726\u001b[0m \u001b[38;5;66;03m# icol\u001b[39;00m\n\u001b[0;32m   3727\u001b[0m \u001b[38;5;28;01melse\u001b[39;00m:\n\u001b[1;32m-> 3728\u001b[0m     label \u001b[38;5;241m=\u001b[39m \u001b[38;5;28;43mself\u001b[39;49m\u001b[38;5;241;43m.\u001b[39;49m\u001b[43mcolumns\u001b[49m\u001b[43m[\u001b[49m\u001b[43mi\u001b[49m\u001b[43m]\u001b[49m\n\u001b[0;32m   3730\u001b[0m     col_mgr \u001b[38;5;241m=\u001b[39m \u001b[38;5;28mself\u001b[39m\u001b[38;5;241m.\u001b[39m_mgr\u001b[38;5;241m.\u001b[39miget(i)\n\u001b[0;32m   3731\u001b[0m     result \u001b[38;5;241m=\u001b[39m \u001b[38;5;28mself\u001b[39m\u001b[38;5;241m.\u001b[39m_box_col_values(col_mgr, i)\n",
      "File \u001b[1;32m~\\anaconda3\\lib\\site-packages\\pandas\\core\\indexes\\base.py:5320\u001b[0m, in \u001b[0;36mIndex.__getitem__\u001b[1;34m(self, key)\u001b[0m\n\u001b[0;32m   5317\u001b[0m \u001b[38;5;28;01mif\u001b[39;00m is_integer(key) \u001b[38;5;129;01mor\u001b[39;00m is_float(key):\n\u001b[0;32m   5318\u001b[0m     \u001b[38;5;66;03m# GH#44051 exclude bool, which would return a 2d ndarray\u001b[39;00m\n\u001b[0;32m   5319\u001b[0m     key \u001b[38;5;241m=\u001b[39m com\u001b[38;5;241m.\u001b[39mcast_scalar_indexer(key, warn_float\u001b[38;5;241m=\u001b[39m\u001b[38;5;28;01mTrue\u001b[39;00m)\n\u001b[1;32m-> 5320\u001b[0m     \u001b[38;5;28;01mreturn\u001b[39;00m \u001b[43mgetitem\u001b[49m\u001b[43m(\u001b[49m\u001b[43mkey\u001b[49m\u001b[43m)\u001b[49m\n\u001b[0;32m   5322\u001b[0m \u001b[38;5;28;01mif\u001b[39;00m \u001b[38;5;28misinstance\u001b[39m(key, \u001b[38;5;28mslice\u001b[39m):\n\u001b[0;32m   5323\u001b[0m     \u001b[38;5;66;03m# This case is separated from the conditional above to avoid\u001b[39;00m\n\u001b[0;32m   5324\u001b[0m     \u001b[38;5;66;03m# pessimization com.is_bool_indexer and ndim checks.\u001b[39;00m\n\u001b[0;32m   5325\u001b[0m     result \u001b[38;5;241m=\u001b[39m getitem(key)\n",
      "\u001b[1;31mIndexError\u001b[0m: index 300 is out of bounds for axis 0 with size 300"
     ]
    }
   ],
   "source": [
    "# A* 알고리즘 적용 - with 유클리드 휴리스틱\n",
    "adj_matrix = subway_graph.values\n",
    "heu_matrix = heu_matrix_euclidean\n",
    "\n",
    "start_vertex = int(subway_li.index(input(\"출발지 입력: \")))\n",
    "end_vertex = int(subway_li.index(input(\"목적지 입력: \")))\n",
    "\n",
    "start_time = time()\n",
    "shortest_patht, cost = a_star(adj_matrix, start_vertex, end_vertex, heu_matrix)\n",
    "end_time = time()\n",
    "elapsed = end_time - start_time\n",
    "\n",
    "print(f\"\\n최단 경로: {[subway_li[i] for i in shortest_path]}\\n\")\n",
    "\n",
    "print(f\"소요 시간: {cost} 분\")\n",
    "\n",
    "print(f\"A* with Euclidean 성능: {elapsed} 초\")"
   ]
  },
  {
   "cell_type": "code",
   "execution_count": null,
   "metadata": {},
   "outputs": [],
   "source": [
    "# A* 알고리즘 적용 - with 맨해튼 휴리스틱\n",
    "adj_matrix = subway_graph.values\n",
    "heu_matrix = heu_matrix_manhatten\n",
    "start_vertex = int(subway_li.index(input(\"출발지 입력: \")))\n",
    "end_vertex = int(subway_li.index(input(\"목적지 입력: \")))\n",
    "\n",
    "start_time = time()\n",
    "shortest_path, cost = a_star(adj_matrix, start_vertex, end_vertex, heu_matrix)\n",
    "end_time = time()\n",
    "elapsed = end_time - start_time\n",
    "\n",
    "print(f\"최단 경로: {[subway_li[i] for i in shortest_path]}\")\n",
    "\n",
    "print(f\"소요 시간: {cost} 분\")\n",
    "\n",
    "print(f\"A* with Manhatten 성능: {elapsed} 초\")"
   ]
  },
  {
   "cell_type": "markdown",
   "metadata": {},
   "source": [
    "## 3. Kruskal Algorithm"
   ]
  },
  {
   "cell_type": "code",
   "execution_count": null,
   "metadata": {},
   "outputs": [],
   "source": []
  },
  {
   "cell_type": "markdown",
   "metadata": {},
   "source": [
    "## 4. Prim Algorithm"
   ]
  },
  {
   "cell_type": "code",
   "execution_count": null,
   "metadata": {},
   "outputs": [],
   "source": []
  },
  {
   "cell_type": "markdown",
   "metadata": {},
   "source": [
    "# Comparative analysis"
   ]
  },
  {
   "cell_type": "code",
   "execution_count": null,
   "metadata": {},
   "outputs": [],
   "source": [
    "d"
   ]
  },
  {
   "cell_type": "code",
   "execution_count": null,
   "metadata": {},
   "outputs": [],
   "source": [
    "def test_algorithm():\n",
    "    algorithm_dict = {\n",
    "        0 : 'Dijkstra',\n",
    "        1 : 'A*'\n",
    "    }\n",
    "    print(algorithm_dict)\n",
    "    \n",
    "    algorithm_idx = int(input(\"적용할 알고리즘 번호 입력: \"))\n",
    "    start_vertex = int(subway_name_li.index(input(\"출발지: \")))\n",
    "    end_vertex = int(subway_name_li.index(input(\"도착지: \")))\n",
    "    \n",
    "    if algorithm_idx == 0:\n",
    "        shortest_path_idx, cost = dijkstra(subway_graph.values, start_vertex, end_vertex)\n",
    "        \n",
    "    shortest_path = [subway_name_li[i] for i in shortest_path_idx]\n",
    "    \n",
    "    print(shortest_path)\n",
    "\n",
    "test_algorithm()"
   ]
  },
  {
   "cell_type": "code",
   "execution_count": null,
   "metadata": {},
   "outputs": [],
   "source": []
  }
 ],
 "metadata": {
  "colab": {
   "provenance": []
  },
  "kernelspec": {
   "display_name": "Python 3 (ipykernel)",
   "language": "python",
   "name": "python3"
  },
  "language_info": {
   "codemirror_mode": {
    "name": "ipython",
    "version": 3
   },
   "file_extension": ".py",
   "mimetype": "text/x-python",
   "name": "python",
   "nbconvert_exporter": "python",
   "pygments_lexer": "ipython3",
   "version": "3.10.9"
  }
 },
 "nbformat": 4,
 "nbformat_minor": 4
}
